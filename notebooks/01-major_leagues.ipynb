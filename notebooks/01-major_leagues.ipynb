{
 "cells": [
  {
   "cell_type": "markdown",
   "metadata": {},
   "source": [
    "# Major Leagues\n",
    "\n",
    "Dalton Hahn (2762306)\n",
    "\n",
    "## Soccer Data\n",
    "https://github.com/fivethirtyeight/data/tree/master/soccer-spi"
   ]
  },
  {
   "cell_type": "markdown",
   "metadata": {},
   "source": [
    "## Goal\n",
    "- Perform feature engineering upon the data to enable regression analysis\n",
    "- Build a regression model in order to be able to determine the score of a soccer match"
   ]
  },
  {
   "cell_type": "code",
   "execution_count": 1,
   "metadata": {},
   "outputs": [],
   "source": [
    "import pandas as pd\n",
    "import numpy as np\n",
    "import datetime as dt\n",
    "import seaborn as sns\n",
    "import matplotlib.pyplot as plt\n",
    "import math\n",
    "from statistics import mean, stdev\n",
    "import string\n",
    "from sklearn import preprocessing\n",
    "\n",
    "from sklearn.model_selection import train_test_split\n",
    "from sklearn.linear_model import LinearRegression\n",
    "from sklearn.ensemble import RandomForestRegressor"
   ]
  },
  {
   "cell_type": "markdown",
   "metadata": {},
   "source": [
    "## Read in the Data"
   ]
  },
  {
   "cell_type": "code",
   "execution_count": 2,
   "metadata": {},
   "outputs": [
    {
     "data": {
      "text/html": [
       "<div>\n",
       "<style scoped>\n",
       "    .dataframe tbody tr th:only-of-type {\n",
       "        vertical-align: middle;\n",
       "    }\n",
       "\n",
       "    .dataframe tbody tr th {\n",
       "        vertical-align: top;\n",
       "    }\n",
       "\n",
       "    .dataframe thead th {\n",
       "        text-align: right;\n",
       "    }\n",
       "</style>\n",
       "<table border=\"1\" class=\"dataframe\">\n",
       "  <thead>\n",
       "    <tr style=\"text-align: right;\">\n",
       "      <th></th>\n",
       "      <th>date</th>\n",
       "      <th>league_id</th>\n",
       "      <th>league</th>\n",
       "      <th>team1</th>\n",
       "      <th>team2</th>\n",
       "      <th>spi1</th>\n",
       "      <th>spi2</th>\n",
       "      <th>prob1</th>\n",
       "      <th>prob2</th>\n",
       "      <th>probtie</th>\n",
       "      <th>...</th>\n",
       "      <th>importance1</th>\n",
       "      <th>importance2</th>\n",
       "      <th>score1</th>\n",
       "      <th>score2</th>\n",
       "      <th>xg1</th>\n",
       "      <th>xg2</th>\n",
       "      <th>nsxg1</th>\n",
       "      <th>nsxg2</th>\n",
       "      <th>adj_score1</th>\n",
       "      <th>adj_score2</th>\n",
       "    </tr>\n",
       "  </thead>\n",
       "  <tbody>\n",
       "    <tr>\n",
       "      <th>0</th>\n",
       "      <td>2016-08-12</td>\n",
       "      <td>1843</td>\n",
       "      <td>French Ligue 1</td>\n",
       "      <td>Bastia</td>\n",
       "      <td>Paris Saint-Germain</td>\n",
       "      <td>51.16</td>\n",
       "      <td>85.68</td>\n",
       "      <td>0.0463</td>\n",
       "      <td>0.8380</td>\n",
       "      <td>0.1157</td>\n",
       "      <td>...</td>\n",
       "      <td>32.4</td>\n",
       "      <td>67.7</td>\n",
       "      <td>0.0</td>\n",
       "      <td>1.0</td>\n",
       "      <td>0.97</td>\n",
       "      <td>0.63</td>\n",
       "      <td>0.43</td>\n",
       "      <td>0.45</td>\n",
       "      <td>0.00</td>\n",
       "      <td>1.05</td>\n",
       "    </tr>\n",
       "    <tr>\n",
       "      <th>1</th>\n",
       "      <td>2016-08-12</td>\n",
       "      <td>1843</td>\n",
       "      <td>French Ligue 1</td>\n",
       "      <td>AS Monaco</td>\n",
       "      <td>Guingamp</td>\n",
       "      <td>68.85</td>\n",
       "      <td>56.48</td>\n",
       "      <td>0.5714</td>\n",
       "      <td>0.1669</td>\n",
       "      <td>0.2617</td>\n",
       "      <td>...</td>\n",
       "      <td>53.7</td>\n",
       "      <td>22.9</td>\n",
       "      <td>2.0</td>\n",
       "      <td>2.0</td>\n",
       "      <td>2.45</td>\n",
       "      <td>0.77</td>\n",
       "      <td>1.75</td>\n",
       "      <td>0.42</td>\n",
       "      <td>2.10</td>\n",
       "      <td>2.10</td>\n",
       "    </tr>\n",
       "    <tr>\n",
       "      <th>2</th>\n",
       "      <td>2016-08-13</td>\n",
       "      <td>2411</td>\n",
       "      <td>Barclays Premier League</td>\n",
       "      <td>Hull City</td>\n",
       "      <td>Leicester City</td>\n",
       "      <td>53.57</td>\n",
       "      <td>66.81</td>\n",
       "      <td>0.3459</td>\n",
       "      <td>0.3621</td>\n",
       "      <td>0.2921</td>\n",
       "      <td>...</td>\n",
       "      <td>38.1</td>\n",
       "      <td>22.2</td>\n",
       "      <td>2.0</td>\n",
       "      <td>1.0</td>\n",
       "      <td>0.85</td>\n",
       "      <td>2.77</td>\n",
       "      <td>0.17</td>\n",
       "      <td>1.25</td>\n",
       "      <td>2.10</td>\n",
       "      <td>1.05</td>\n",
       "    </tr>\n",
       "    <tr>\n",
       "      <th>3</th>\n",
       "      <td>2016-08-13</td>\n",
       "      <td>2411</td>\n",
       "      <td>Barclays Premier League</td>\n",
       "      <td>Crystal Palace</td>\n",
       "      <td>West Bromwich Albion</td>\n",
       "      <td>55.19</td>\n",
       "      <td>58.66</td>\n",
       "      <td>0.4214</td>\n",
       "      <td>0.2939</td>\n",
       "      <td>0.2847</td>\n",
       "      <td>...</td>\n",
       "      <td>43.6</td>\n",
       "      <td>34.6</td>\n",
       "      <td>0.0</td>\n",
       "      <td>1.0</td>\n",
       "      <td>1.11</td>\n",
       "      <td>0.68</td>\n",
       "      <td>0.84</td>\n",
       "      <td>1.60</td>\n",
       "      <td>0.00</td>\n",
       "      <td>1.05</td>\n",
       "    </tr>\n",
       "    <tr>\n",
       "      <th>4</th>\n",
       "      <td>2016-08-13</td>\n",
       "      <td>2411</td>\n",
       "      <td>Barclays Premier League</td>\n",
       "      <td>Everton</td>\n",
       "      <td>Tottenham Hotspur</td>\n",
       "      <td>68.02</td>\n",
       "      <td>73.25</td>\n",
       "      <td>0.3910</td>\n",
       "      <td>0.3401</td>\n",
       "      <td>0.2689</td>\n",
       "      <td>...</td>\n",
       "      <td>31.9</td>\n",
       "      <td>48.0</td>\n",
       "      <td>1.0</td>\n",
       "      <td>1.0</td>\n",
       "      <td>0.73</td>\n",
       "      <td>1.11</td>\n",
       "      <td>0.88</td>\n",
       "      <td>1.81</td>\n",
       "      <td>1.05</td>\n",
       "      <td>1.05</td>\n",
       "    </tr>\n",
       "  </tbody>\n",
       "</table>\n",
       "<p>5 rows × 22 columns</p>\n",
       "</div>"
      ],
      "text/plain": [
       "         date  league_id                   league           team1  \\\n",
       "0  2016-08-12       1843           French Ligue 1          Bastia   \n",
       "1  2016-08-12       1843           French Ligue 1       AS Monaco   \n",
       "2  2016-08-13       2411  Barclays Premier League       Hull City   \n",
       "3  2016-08-13       2411  Barclays Premier League  Crystal Palace   \n",
       "4  2016-08-13       2411  Barclays Premier League         Everton   \n",
       "\n",
       "                  team2   spi1   spi2   prob1   prob2  probtie     ...      \\\n",
       "0   Paris Saint-Germain  51.16  85.68  0.0463  0.8380   0.1157     ...       \n",
       "1              Guingamp  68.85  56.48  0.5714  0.1669   0.2617     ...       \n",
       "2        Leicester City  53.57  66.81  0.3459  0.3621   0.2921     ...       \n",
       "3  West Bromwich Albion  55.19  58.66  0.4214  0.2939   0.2847     ...       \n",
       "4     Tottenham Hotspur  68.02  73.25  0.3910  0.3401   0.2689     ...       \n",
       "\n",
       "   importance1  importance2  score1  score2   xg1   xg2  nsxg1  nsxg2  \\\n",
       "0         32.4         67.7     0.0     1.0  0.97  0.63   0.43   0.45   \n",
       "1         53.7         22.9     2.0     2.0  2.45  0.77   1.75   0.42   \n",
       "2         38.1         22.2     2.0     1.0  0.85  2.77   0.17   1.25   \n",
       "3         43.6         34.6     0.0     1.0  1.11  0.68   0.84   1.60   \n",
       "4         31.9         48.0     1.0     1.0  0.73  1.11   0.88   1.81   \n",
       "\n",
       "   adj_score1  adj_score2  \n",
       "0        0.00        1.05  \n",
       "1        2.10        2.10  \n",
       "2        2.10        1.05  \n",
       "3        0.00        1.05  \n",
       "4        1.05        1.05  \n",
       "\n",
       "[5 rows x 22 columns]"
      ]
     },
     "execution_count": 2,
     "metadata": {},
     "output_type": "execute_result"
    }
   ],
   "source": [
    "df_matches = pd.read_csv(\"../data/external/spi_matches.csv\")\n",
    "df_matches.head()"
   ]
  },
  {
   "cell_type": "code",
   "execution_count": 3,
   "metadata": {},
   "outputs": [
    {
     "name": "stdout",
     "output_type": "stream",
     "text": [
      "(32106, 22)\n",
      "Index(['date', 'league_id', 'league', 'team1', 'team2', 'spi1', 'spi2',\n",
      "       'prob1', 'prob2', 'probtie', 'proj_score1', 'proj_score2',\n",
      "       'importance1', 'importance2', 'score1', 'score2', 'xg1', 'xg2', 'nsxg1',\n",
      "       'nsxg2', 'adj_score1', 'adj_score2'],\n",
      "      dtype='object')\n"
     ]
    }
   ],
   "source": [
    "print(df_matches.shape)\n",
    "print(df_matches.columns)"
   ]
  },
  {
   "cell_type": "code",
   "execution_count": 4,
   "metadata": {},
   "outputs": [
    {
     "data": {
      "text/html": [
       "<div>\n",
       "<style scoped>\n",
       "    .dataframe tbody tr th:only-of-type {\n",
       "        vertical-align: middle;\n",
       "    }\n",
       "\n",
       "    .dataframe tbody tr th {\n",
       "        vertical-align: top;\n",
       "    }\n",
       "\n",
       "    .dataframe thead th {\n",
       "        text-align: right;\n",
       "    }\n",
       "</style>\n",
       "<table border=\"1\" class=\"dataframe\">\n",
       "  <thead>\n",
       "    <tr style=\"text-align: right;\">\n",
       "      <th></th>\n",
       "      <th>rank</th>\n",
       "      <th>prev_rank</th>\n",
       "      <th>name</th>\n",
       "      <th>league</th>\n",
       "      <th>off</th>\n",
       "      <th>def</th>\n",
       "      <th>spi</th>\n",
       "    </tr>\n",
       "  </thead>\n",
       "  <tbody>\n",
       "    <tr>\n",
       "      <th>0</th>\n",
       "      <td>1</td>\n",
       "      <td>1</td>\n",
       "      <td>Manchester City</td>\n",
       "      <td>Barclays Premier League</td>\n",
       "      <td>3.29</td>\n",
       "      <td>0.22</td>\n",
       "      <td>95.22</td>\n",
       "    </tr>\n",
       "    <tr>\n",
       "      <th>1</th>\n",
       "      <td>2</td>\n",
       "      <td>2</td>\n",
       "      <td>Bayern Munich</td>\n",
       "      <td>German Bundesliga</td>\n",
       "      <td>3.22</td>\n",
       "      <td>0.36</td>\n",
       "      <td>93.30</td>\n",
       "    </tr>\n",
       "    <tr>\n",
       "      <th>2</th>\n",
       "      <td>3</td>\n",
       "      <td>3</td>\n",
       "      <td>Liverpool</td>\n",
       "      <td>Barclays Premier League</td>\n",
       "      <td>2.92</td>\n",
       "      <td>0.27</td>\n",
       "      <td>92.78</td>\n",
       "    </tr>\n",
       "    <tr>\n",
       "      <th>3</th>\n",
       "      <td>4</td>\n",
       "      <td>5</td>\n",
       "      <td>Paris Saint-Germain</td>\n",
       "      <td>French Ligue 1</td>\n",
       "      <td>2.75</td>\n",
       "      <td>0.41</td>\n",
       "      <td>89.51</td>\n",
       "    </tr>\n",
       "    <tr>\n",
       "      <th>4</th>\n",
       "      <td>5</td>\n",
       "      <td>4</td>\n",
       "      <td>Barcelona</td>\n",
       "      <td>Spanish Primera Division</td>\n",
       "      <td>2.80</td>\n",
       "      <td>0.49</td>\n",
       "      <td>88.64</td>\n",
       "    </tr>\n",
       "  </tbody>\n",
       "</table>\n",
       "</div>"
      ],
      "text/plain": [
       "   rank  prev_rank                 name                    league   off   def  \\\n",
       "0     1          1      Manchester City   Barclays Premier League  3.29  0.22   \n",
       "1     2          2        Bayern Munich         German Bundesliga  3.22  0.36   \n",
       "2     3          3            Liverpool   Barclays Premier League  2.92  0.27   \n",
       "3     4          5  Paris Saint-Germain            French Ligue 1  2.75  0.41   \n",
       "4     5          4            Barcelona  Spanish Primera Division  2.80  0.49   \n",
       "\n",
       "     spi  \n",
       "0  95.22  \n",
       "1  93.30  \n",
       "2  92.78  \n",
       "3  89.51  \n",
       "4  88.64  "
      ]
     },
     "execution_count": 4,
     "metadata": {},
     "output_type": "execute_result"
    }
   ],
   "source": [
    "df_rank = pd.read_csv(\"../data/external/spi_global_rankings.csv\")\n",
    "df_rank.head()"
   ]
  },
  {
   "cell_type": "code",
   "execution_count": 5,
   "metadata": {},
   "outputs": [
    {
     "data": {
      "text/plain": [
       "(628, 7)"
      ]
     },
     "execution_count": 5,
     "metadata": {},
     "output_type": "execute_result"
    }
   ],
   "source": [
    "df_rank.shape"
   ]
  },
  {
   "cell_type": "code",
   "execution_count": 6,
   "metadata": {},
   "outputs": [
    {
     "data": {
      "text/html": [
       "<div>\n",
       "<style scoped>\n",
       "    .dataframe tbody tr th:only-of-type {\n",
       "        vertical-align: middle;\n",
       "    }\n",
       "\n",
       "    .dataframe tbody tr th {\n",
       "        vertical-align: top;\n",
       "    }\n",
       "\n",
       "    .dataframe thead th {\n",
       "        text-align: right;\n",
       "    }\n",
       "</style>\n",
       "<table border=\"1\" class=\"dataframe\">\n",
       "  <thead>\n",
       "    <tr style=\"text-align: right;\">\n",
       "      <th></th>\n",
       "      <th>rank</th>\n",
       "      <th>name</th>\n",
       "      <th>confed</th>\n",
       "      <th>off</th>\n",
       "      <th>def</th>\n",
       "      <th>spi</th>\n",
       "    </tr>\n",
       "  </thead>\n",
       "  <tbody>\n",
       "    <tr>\n",
       "      <th>0</th>\n",
       "      <td>1</td>\n",
       "      <td>Spain</td>\n",
       "      <td>UEFA</td>\n",
       "      <td>3.47</td>\n",
       "      <td>0.55</td>\n",
       "      <td>91.68</td>\n",
       "    </tr>\n",
       "    <tr>\n",
       "      <th>1</th>\n",
       "      <td>2</td>\n",
       "      <td>Brazil</td>\n",
       "      <td>CONMEBOL</td>\n",
       "      <td>2.91</td>\n",
       "      <td>0.36</td>\n",
       "      <td>90.74</td>\n",
       "    </tr>\n",
       "    <tr>\n",
       "      <th>2</th>\n",
       "      <td>3</td>\n",
       "      <td>Germany</td>\n",
       "      <td>UEFA</td>\n",
       "      <td>3.16</td>\n",
       "      <td>0.59</td>\n",
       "      <td>89.13</td>\n",
       "    </tr>\n",
       "    <tr>\n",
       "      <th>3</th>\n",
       "      <td>4</td>\n",
       "      <td>Belgium</td>\n",
       "      <td>UEFA</td>\n",
       "      <td>3.00</td>\n",
       "      <td>0.55</td>\n",
       "      <td>88.44</td>\n",
       "    </tr>\n",
       "    <tr>\n",
       "      <th>4</th>\n",
       "      <td>5</td>\n",
       "      <td>Argentina</td>\n",
       "      <td>CONMEBOL</td>\n",
       "      <td>2.52</td>\n",
       "      <td>0.42</td>\n",
       "      <td>86.38</td>\n",
       "    </tr>\n",
       "  </tbody>\n",
       "</table>\n",
       "</div>"
      ],
      "text/plain": [
       "   rank       name    confed   off   def    spi\n",
       "0     1      Spain      UEFA  3.47  0.55  91.68\n",
       "1     2     Brazil  CONMEBOL  2.91  0.36  90.74\n",
       "2     3    Germany      UEFA  3.16  0.59  89.13\n",
       "3     4    Belgium      UEFA  3.00  0.55  88.44\n",
       "4     5  Argentina  CONMEBOL  2.52  0.42  86.38"
      ]
     },
     "execution_count": 6,
     "metadata": {},
     "output_type": "execute_result"
    }
   ],
   "source": [
    "df_intl = pd.read_csv(\"../data/external/spi_global_rankings_intl.csv\")\n",
    "df_intl.head()"
   ]
  },
  {
   "cell_type": "code",
   "execution_count": 7,
   "metadata": {},
   "outputs": [
    {
     "data": {
      "text/plain": [
       "(216, 6)"
      ]
     },
     "execution_count": 7,
     "metadata": {},
     "output_type": "execute_result"
    }
   ],
   "source": [
    "df_intl.shape"
   ]
  },
  {
   "cell_type": "markdown",
   "metadata": {},
   "source": [
    "## Considering the Data\n",
    "### Initial approach\n",
    "- Overall goal is to predict 'score1' and 'score2' from the spi_matches.csv file\n",
    "- Other features to consider right away: spi, prob, xg, nsxg, adj_scores\n",
    "\n",
    "### Combining other features from other datasets\n",
    "- Offensive and Defensive ratings from the other two .csv files could be important in helping shape the overall score\n",
    "- Depending on distribution, the league that a match is occurring in could have an effect (or difference in league between two teams)"
   ]
  },
  {
   "cell_type": "code",
   "execution_count": 8,
   "metadata": {},
   "outputs": [
    {
     "name": "stdout",
     "output_type": "stream",
     "text": [
      "(12347, 22)\n"
     ]
    }
   ],
   "source": [
    "# Quick cleaning of df_matches (dropping NaNs)\n",
    "df_matches = df_matches.dropna(axis=0)\n",
    "print(df_matches.shape)\n",
    "\n",
    "le = preprocessing.LabelEncoder()\n",
    "df_matches[\"league\"] = le.fit_transform(df_matches[\"league\"])\n",
    "df_matches[\"team1\"] = le.fit_transform(df_matches[\"team1\"])\n",
    "df_matches[\"team2\"] = le.fit_transform(df_matches[\"team2\"])"
   ]
  },
  {
   "cell_type": "code",
   "execution_count": 9,
   "metadata": {},
   "outputs": [
    {
     "name": "stdout",
     "output_type": "stream",
     "text": [
      "Average error:  0.00018126529161474015\n",
      "Largest positive error:  0.4870698326741305\n",
      "Largest negative error:  -1.5701335396991922\n"
     ]
    }
   ],
   "source": [
    "# Gonna try basic linear regression\n",
    "# Inspiration from https://medium.com/@contactsunny/linear-regression-in-python-using-scikit-learn-f0f7b125a204\n",
    "# Just going to attempt to predict score1 for this round\n",
    "\n",
    "x = df_matches.drop(['score1', 'score2', 'date'], axis=1)\n",
    "y = df_matches['score1']\n",
    "\n",
    "xTrain, xTest, yTrain, yTest = train_test_split(x, y, test_size = 2/5)\n",
    "linearRegressor = LinearRegression()\n",
    "linearRegressor.fit(xTrain, yTrain)\n",
    "yPrediction = linearRegressor.predict(xTest)\n",
    "\n",
    "errors = list()\n",
    "counter = 0\n",
    "for row in yTest:\n",
    "    errors.append(yPrediction[counter]-row)\n",
    "    #print(\"Pred: \", yPrediction[counter], \"; True Val: \", row, \"; Error: \", yPrediction[counter]-row)\n",
    "    counter = counter + 1\n",
    "    \n",
    "print(\"Average error: \", mean(errors))\n",
    "print(\"Largest positive error: \", max(errors))\n",
    "print(\"Largest negative error: \", min(errors))"
   ]
  },
  {
   "cell_type": "markdown",
   "metadata": {},
   "source": [
    "### Previous cell is responsible for taking raw values from the matches dataframe and passing them to a linear regressor to consider all features of the dataset besides the scores of the teams and the date\n",
    "\n",
    "- Not bad results, especially in terms of soccer scores, where some matches there is only one score, if any in the entire match\n",
    "- Going to repeat the process to see the results for the \"score2\" column to see the results for that, then consider other regressors"
   ]
  },
  {
   "cell_type": "code",
   "execution_count": 10,
   "metadata": {},
   "outputs": [
    {
     "name": "stdout",
     "output_type": "stream",
     "text": [
      "Average error:  -6.27474071013915e-05\n",
      "Largest positive error:  0.2844061690547255\n",
      "Largest negative error:  -1.9798214699781953\n"
     ]
    }
   ],
   "source": [
    "# Predicting score2\n",
    "\n",
    "x = df_matches.drop(['score1', 'score2', 'date'], axis=1)\n",
    "y = df_matches['score2']\n",
    "\n",
    "xTrain, xTest, yTrain, yTest = train_test_split(x, y, test_size = 2/5)\n",
    "linearRegressor = LinearRegression()\n",
    "linearRegressor.fit(xTrain, yTrain)\n",
    "yPrediction = linearRegressor.predict(xTest)\n",
    "\n",
    "errors = list()\n",
    "counter = 0\n",
    "for row in yTest:\n",
    "    errors.append(yPrediction[counter]-row)\n",
    "    #print(\"Pred: \", yPrediction[counter], \"; True Val: \", row, \"; Error: \", yPrediction[counter]-row)\n",
    "    counter = counter + 1\n",
    "    \n",
    "print(\"Average error: \", mean(errors))\n",
    "print(\"Largest positive error: \", max(errors))\n",
    "print(\"Largest negative error: \", min(errors))"
   ]
  },
  {
   "cell_type": "markdown",
   "metadata": {},
   "source": [
    "## Linear regression worked surprisingly well, but let's see how a Random Forest fares\n",
    "https://medium.com/datadriveninvestor/random-forest-regression-9871bc9a25eb for inspiration"
   ]
  },
  {
   "cell_type": "code",
   "execution_count": 11,
   "metadata": {},
   "outputs": [
    {
     "name": "stdout",
     "output_type": "stream",
     "text": [
      "Average error:  0.004177161368698105\n",
      "Largest positive error:  0.5410000000000004\n",
      "Largest negative error:  -1.8819999999999997\n"
     ]
    }
   ],
   "source": [
    "# Predicting score1\n",
    "\n",
    "x = df_matches.drop(['score1', 'score2', 'date'], axis=1)\n",
    "y = df_matches['score1']\n",
    "\n",
    "xTrain, xTest, yTrain, yTest = train_test_split(x, y, test_size = 2/5)\n",
    "forestRegressor = RandomForestRegressor(n_estimators=1000, max_features=7)\n",
    "forestRegressor.fit(xTrain, yTrain)\n",
    "yPrediction = forestRegressor.predict(xTest)\n",
    "\n",
    "errors = list()\n",
    "counter = 0\n",
    "for row in yTest:\n",
    "    errors.append(yPrediction[counter]-row)\n",
    "    #print(\"Pred: \", yPrediction[counter], \"; True Val: \", row, \"; Error: \", yPrediction[counter]-row)\n",
    "    counter = counter + 1\n",
    "    \n",
    "print(\"Average error: \", mean(errors))\n",
    "print(\"Largest positive error: \", max(errors))\n",
    "print(\"Largest negative error: \", min(errors))"
   ]
  },
  {
   "cell_type": "code",
   "execution_count": 12,
   "metadata": {},
   "outputs": [
    {
     "name": "stdout",
     "output_type": "stream",
     "text": [
      "Average error:  0.0014723628264830793\n",
      "Largest positive error:  0.4109999999999996\n",
      "Largest negative error:  -2.4560000000000004\n"
     ]
    }
   ],
   "source": [
    "# Predicting score2\n",
    "\n",
    "x = df_matches.drop(['score1', 'score2', 'date'], axis=1)\n",
    "y = df_matches['score2']\n",
    "\n",
    "xTrain, xTest, yTrain, yTest = train_test_split(x, y, test_size = 2/5)\n",
    "forestRegressor = RandomForestRegressor(n_estimators=1000, max_features=7)\n",
    "forestRegressor.fit(xTrain, yTrain)\n",
    "yPrediction = forestRegressor.predict(xTest)\n",
    "\n",
    "errors = list()\n",
    "counter = 0\n",
    "for row in yTest:\n",
    "    errors.append(yPrediction[counter]-row)\n",
    "    #print(\"Pred: \", yPrediction[counter], \"; True Val: \", row, \"; Error: \", yPrediction[counter]-row)\n",
    "    counter = counter + 1\n",
    "    \n",
    "print(\"Average error: \", mean(errors))\n",
    "print(\"Largest positive error: \", max(errors))\n",
    "print(\"Largest negative error: \", min(errors))"
   ]
  },
  {
   "cell_type": "markdown",
   "metadata": {},
   "source": [
    "# Conclusions\n",
    "- Overall, this was a very easy dataset to work with.  With most of the features already being numeric, there was very little processing that needed to be done before directly using models\n",
    "- Linear regression had great results immediately to predict both score1 and score2\n",
    "- Random Forest seemed to have very comparable results, but with more drastic largest errors in both the positive and negative direction"
   ]
  }
 ],
 "metadata": {
  "kernelspec": {
   "display_name": "Python 3",
   "language": "python",
   "name": "python3"
  },
  "language_info": {
   "codemirror_mode": {
    "name": "ipython",
    "version": 3
   },
   "file_extension": ".py",
   "mimetype": "text/x-python",
   "name": "python",
   "nbconvert_exporter": "python",
   "pygments_lexer": "ipython3",
   "version": "3.7.1"
  }
 },
 "nbformat": 4,
 "nbformat_minor": 2
}
